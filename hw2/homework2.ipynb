{
 "cells": [
  {
   "cell_type": "markdown",
   "metadata": {},
   "source": [
    "# Homework 2"
   ]
  },
  {
   "cell_type": "markdown",
   "metadata": {},
   "source": [
    "## Data preprocess"
   ]
  },
  {
   "cell_type": "code",
   "execution_count": 53,
   "metadata": {},
   "outputs": [],
   "source": [
    "import numpy as np\n",
    "import csv\n",
    "import pandas as pd\n",
    "from sklearn import preprocessing\n",
    "from sklearn.metrics import mean_squared_error as mse\n",
    "from sklearn.linear_model import LinearRegression, Lasso, Ridge\n",
    "import matplotlib.pyplot as plt"
   ]
  },
  {
   "cell_type": "code",
   "execution_count": 54,
   "metadata": {},
   "outputs": [
    {
     "name": "stdout",
     "output_type": "stream",
     "text": [
      "['comp_page_like', 'Paid', 'life_post_reach', 'life_post_impression_liked', 'life_post_reach_liked', 'comment', 'like', 'share', 'type_link', 'type_status', 'type_video', 'cat2', 'cat3', 'month1', 'month2', 'month3', 'month4', 'month5', 'month6', 'month7', 'month8', 'month9', 'month10', 'month11', 'dow1', 'dow2', 'dow3', 'dow4', 'dow5', 'dow6', 'hour2', 'hour3', 'hour4', 'hour5', 'hour6', 'hour7', 'hour8', 'hour9', 'hour10', 'hour11', 'hour12', 'hour13', 'hour14']\n"
     ]
    }
   ],
   "source": [
    "raw_train_data = pd.read_csv('df1_train.csv') \n",
    "train_data = raw_train_data.drop('life_post_consumer', 1)\n",
    "test_data = pd.read_csv('df1_test1.csv') \n",
    "test_y_data = pd.read_csv('df1_test1y.csv') \n",
    "print(list(train_data.columns.values))"
   ]
  },
  {
   "cell_type": "code",
   "execution_count": 55,
   "metadata": {},
   "outputs": [
    {
     "data": {
      "text/html": [
       "<div>\n",
       "<style scoped>\n",
       "    .dataframe tbody tr th:only-of-type {\n",
       "        vertical-align: middle;\n",
       "    }\n",
       "\n",
       "    .dataframe tbody tr th {\n",
       "        vertical-align: top;\n",
       "    }\n",
       "\n",
       "    .dataframe thead th {\n",
       "        text-align: right;\n",
       "    }\n",
       "</style>\n",
       "<table border=\"1\" class=\"dataframe\">\n",
       "  <thead>\n",
       "    <tr style=\"text-align: right;\">\n",
       "      <th></th>\n",
       "      <th>comp_page_like</th>\n",
       "      <th>Paid</th>\n",
       "      <th>life_post_reach</th>\n",
       "      <th>life_post_impression_liked</th>\n",
       "      <th>life_post_reach_liked</th>\n",
       "      <th>comment</th>\n",
       "      <th>like</th>\n",
       "      <th>share</th>\n",
       "      <th>type_link</th>\n",
       "      <th>type_status</th>\n",
       "      <th>...</th>\n",
       "      <th>hour5</th>\n",
       "      <th>hour6</th>\n",
       "      <th>hour7</th>\n",
       "      <th>hour8</th>\n",
       "      <th>hour9</th>\n",
       "      <th>hour10</th>\n",
       "      <th>hour11</th>\n",
       "      <th>hour12</th>\n",
       "      <th>hour13</th>\n",
       "      <th>hour14</th>\n",
       "    </tr>\n",
       "  </thead>\n",
       "  <tbody>\n",
       "    <tr>\n",
       "      <th>0</th>\n",
       "      <td>125612</td>\n",
       "      <td>0</td>\n",
       "      <td>2763</td>\n",
       "      <td>3519</td>\n",
       "      <td>2124</td>\n",
       "      <td>0</td>\n",
       "      <td>62</td>\n",
       "      <td>10</td>\n",
       "      <td>0</td>\n",
       "      <td>0</td>\n",
       "      <td>...</td>\n",
       "      <td>0</td>\n",
       "      <td>0</td>\n",
       "      <td>0</td>\n",
       "      <td>0</td>\n",
       "      <td>0</td>\n",
       "      <td>0</td>\n",
       "      <td>0</td>\n",
       "      <td>0</td>\n",
       "      <td>0</td>\n",
       "      <td>0</td>\n",
       "    </tr>\n",
       "    <tr>\n",
       "      <th>1</th>\n",
       "      <td>135700</td>\n",
       "      <td>0</td>\n",
       "      <td>3756</td>\n",
       "      <td>4935</td>\n",
       "      <td>2556</td>\n",
       "      <td>16</td>\n",
       "      <td>117</td>\n",
       "      <td>30</td>\n",
       "      <td>0</td>\n",
       "      <td>0</td>\n",
       "      <td>...</td>\n",
       "      <td>0</td>\n",
       "      <td>0</td>\n",
       "      <td>0</td>\n",
       "      <td>0</td>\n",
       "      <td>0</td>\n",
       "      <td>0</td>\n",
       "      <td>1</td>\n",
       "      <td>0</td>\n",
       "      <td>0</td>\n",
       "      <td>0</td>\n",
       "    </tr>\n",
       "    <tr>\n",
       "      <th>2</th>\n",
       "      <td>137020</td>\n",
       "      <td>1</td>\n",
       "      <td>1357</td>\n",
       "      <td>2154</td>\n",
       "      <td>1120</td>\n",
       "      <td>0</td>\n",
       "      <td>0</td>\n",
       "      <td>0</td>\n",
       "      <td>0</td>\n",
       "      <td>0</td>\n",
       "      <td>...</td>\n",
       "      <td>0</td>\n",
       "      <td>0</td>\n",
       "      <td>0</td>\n",
       "      <td>0</td>\n",
       "      <td>1</td>\n",
       "      <td>0</td>\n",
       "      <td>0</td>\n",
       "      <td>0</td>\n",
       "      <td>0</td>\n",
       "      <td>0</td>\n",
       "    </tr>\n",
       "    <tr>\n",
       "      <th>3</th>\n",
       "      <td>137893</td>\n",
       "      <td>1</td>\n",
       "      <td>37376</td>\n",
       "      <td>22100</td>\n",
       "      <td>10880</td>\n",
       "      <td>20</td>\n",
       "      <td>411</td>\n",
       "      <td>74</td>\n",
       "      <td>0</td>\n",
       "      <td>0</td>\n",
       "      <td>...</td>\n",
       "      <td>0</td>\n",
       "      <td>0</td>\n",
       "      <td>0</td>\n",
       "      <td>0</td>\n",
       "      <td>0</td>\n",
       "      <td>0</td>\n",
       "      <td>0</td>\n",
       "      <td>0</td>\n",
       "      <td>0</td>\n",
       "      <td>0</td>\n",
       "    </tr>\n",
       "    <tr>\n",
       "      <th>4</th>\n",
       "      <td>133594</td>\n",
       "      <td>0</td>\n",
       "      <td>1809</td>\n",
       "      <td>2541</td>\n",
       "      <td>1435</td>\n",
       "      <td>2</td>\n",
       "      <td>64</td>\n",
       "      <td>7</td>\n",
       "      <td>0</td>\n",
       "      <td>0</td>\n",
       "      <td>...</td>\n",
       "      <td>0</td>\n",
       "      <td>0</td>\n",
       "      <td>0</td>\n",
       "      <td>1</td>\n",
       "      <td>0</td>\n",
       "      <td>0</td>\n",
       "      <td>0</td>\n",
       "      <td>0</td>\n",
       "      <td>0</td>\n",
       "      <td>0</td>\n",
       "    </tr>\n",
       "  </tbody>\n",
       "</table>\n",
       "<p>5 rows × 43 columns</p>\n",
       "</div>"
      ],
      "text/plain": [
       "   comp_page_like  Paid  life_post_reach  life_post_impression_liked  \\\n",
       "0          125612     0             2763                        3519   \n",
       "1          135700     0             3756                        4935   \n",
       "2          137020     1             1357                        2154   \n",
       "3          137893     1            37376                       22100   \n",
       "4          133594     0             1809                        2541   \n",
       "\n",
       "   life_post_reach_liked  comment  like  share  type_link  type_status  ...  \\\n",
       "0                   2124        0    62     10          0            0  ...   \n",
       "1                   2556       16   117     30          0            0  ...   \n",
       "2                   1120        0     0      0          0            0  ...   \n",
       "3                  10880       20   411     74          0            0  ...   \n",
       "4                   1435        2    64      7          0            0  ...   \n",
       "\n",
       "   hour5  hour6  hour7  hour8  hour9  hour10  hour11  hour12  hour13  hour14  \n",
       "0      0      0      0      0      0       0       0       0       0       0  \n",
       "1      0      0      0      0      0       0       1       0       0       0  \n",
       "2      0      0      0      0      1       0       0       0       0       0  \n",
       "3      0      0      0      0      0       0       0       0       0       0  \n",
       "4      0      0      0      1      0       0       0       0       0       0  \n",
       "\n",
       "[5 rows x 43 columns]"
      ]
     },
     "execution_count": 55,
     "metadata": {},
     "output_type": "execute_result"
    }
   ],
   "source": [
    "train_data.head()"
   ]
  },
  {
   "cell_type": "code",
   "execution_count": 56,
   "metadata": {},
   "outputs": [],
   "source": [
    "# y:\n",
    "train_y = raw_train_data['life_post_consumer'].values\n",
    "test_y = test_y_data.values\n",
    "test_y = np.reshape(test_y, len(test_y))\n",
    "# x: seperate continuous and binary \n",
    "con = ['comp_page_like', 'life_post_reach', 'life_post_impression_liked', 'life_post_reach_liked', 'comment', 'like', 'share']\n",
    "binary = ['Paid', 'type_link', 'type_status', 'type_video', 'cat2', 'cat3', 'month1', 'month2', 'month3', 'month4', 'month5', \n",
    "          'month6', 'month7', 'month8', 'month9', 'month10', 'month11', 'dow1', 'dow2', 'dow3', 'dow4', 'dow5', 'dow6', 'hour2', \n",
    "          'hour3', 'hour4', 'hour5', 'hour6', 'hour7', 'hour8', 'hour9', 'hour10', 'hour11', 'hour12', 'hour13', 'hour14']\n",
    "train_x_con = train_data[con].values\n",
    "train_x_binary = train_data[binary].values\n",
    "test_x_con = test_data[con].values\n",
    "test_x_binary = test_data[binary].values"
   ]
  },
  {
   "cell_type": "markdown",
   "metadata": {},
   "source": [
    "outcome preprocess:\n",
    "1. keep - keep the original numerical value\n",
    "2. de-mean - subtract mean(y) of training data from outcome values in trainin"
   ]
  },
  {
   "cell_type": "code",
   "execution_count": 57,
   "metadata": {},
   "outputs": [],
   "source": [
    "y_mean_train = np.mean(train_y)\n",
    "demean_train_y = [x - y_mean_train for x in train_y] "
   ]
  },
  {
   "cell_type": "markdown",
   "metadata": {},
   "source": [
    "feature preprocess:\n",
    "1. keep\n",
    "2. std. - standardize(apply to testing data using mean and sd of the training data) "
   ]
  },
  {
   "cell_type": "code",
   "execution_count": 58,
   "metadata": {},
   "outputs": [],
   "source": [
    "std_scale = preprocessing.StandardScaler().fit(train_x_con)\n",
    "train_x_con_std = std_scale.transform(train_x_con)\n",
    "test_x_con_std  = std_scale.transform(test_x_con)\n",
    "std_binary_scale = preprocessing.StandardScaler().fit(train_x_binary)\n",
    "train_x_binary_std = std_binary_scale.transform(train_x_binary)\n",
    "test_x_binary_std  = std_binary_scale.transform(test_x_binary)\n",
    "train_x_std_std = np.concatenate([train_x_con_std, train_x_binary_std], axis = 1) \n",
    "test_x_std_std = np.concatenate([test_x_con_std, test_x_binary_std], axis = 1) \n",
    "train_x_std_keep = np.concatenate([train_x_con_std, train_x_binary], axis = 1) \n",
    "test_x_std_keep = np.concatenate([test_x_con_std, test_x_binary], axis = 1) \n",
    "train_x_keep_keep = train_data.values\n",
    "test_x_keep_keep = test_data.values"
   ]
  },
  {
   "cell_type": "markdown",
   "metadata": {},
   "source": [
    "## Q1 - exploratory analysis\n",
    "1. summary statistics "
   ]
  },
  {
   "cell_type": "code",
   "execution_count": 59,
   "metadata": {},
   "outputs": [
    {
     "name": "stdout",
     "output_type": "stream",
     "text": [
      "Summary of the outcome values in training data\n"
     ]
    },
    {
     "data": {
      "text/plain": [
       "count      400.000000\n",
       "mean       810.340000\n",
       "std        899.037251\n",
       "min         17.000000\n",
       "25%        335.000000\n",
       "50%        554.500000\n",
       "75%        955.500000\n",
       "max      11328.000000\n",
       "Name: life_post_consumer, dtype: float64"
      ]
     },
     "execution_count": 59,
     "metadata": {},
     "output_type": "execute_result"
    }
   ],
   "source": [
    "print(\"Summary of the outcome values in training data\")\n",
    "raw_train_data['life_post_consumer'].describe()"
   ]
  },
  {
   "cell_type": "code",
   "execution_count": 60,
   "metadata": {},
   "outputs": [
    {
     "name": "stdout",
     "output_type": "stream",
     "text": [
      "Summary of the continuous features in training data\n"
     ]
    },
    {
     "data": {
      "text/html": [
       "<div>\n",
       "<style scoped>\n",
       "    .dataframe tbody tr th:only-of-type {\n",
       "        vertical-align: middle;\n",
       "    }\n",
       "\n",
       "    .dataframe tbody tr th {\n",
       "        vertical-align: top;\n",
       "    }\n",
       "\n",
       "    .dataframe thead th {\n",
       "        text-align: right;\n",
       "    }\n",
       "</style>\n",
       "<table border=\"1\" class=\"dataframe\">\n",
       "  <thead>\n",
       "    <tr style=\"text-align: right;\">\n",
       "      <th></th>\n",
       "      <th>comp_page_like</th>\n",
       "      <th>life_post_reach</th>\n",
       "      <th>life_post_impression_liked</th>\n",
       "      <th>life_post_reach_liked</th>\n",
       "      <th>comment</th>\n",
       "      <th>like</th>\n",
       "      <th>share</th>\n",
       "    </tr>\n",
       "  </thead>\n",
       "  <tbody>\n",
       "    <tr>\n",
       "      <th>count</th>\n",
       "      <td>400.000000</td>\n",
       "      <td>400.000000</td>\n",
       "      <td>4.000000e+02</td>\n",
       "      <td>400.000000</td>\n",
       "      <td>400.000000</td>\n",
       "      <td>400.00000</td>\n",
       "      <td>400.000000</td>\n",
       "    </tr>\n",
       "    <tr>\n",
       "      <th>mean</th>\n",
       "      <td>122890.625000</td>\n",
       "      <td>13436.855000</td>\n",
       "      <td>1.747735e+04</td>\n",
       "      <td>6585.952500</td>\n",
       "      <td>6.855000</td>\n",
       "      <td>169.07250</td>\n",
       "      <td>25.485000</td>\n",
       "    </tr>\n",
       "    <tr>\n",
       "      <th>std</th>\n",
       "      <td>16280.121461</td>\n",
       "      <td>20454.614675</td>\n",
       "      <td>6.614514e+04</td>\n",
       "      <td>7599.228501</td>\n",
       "      <td>14.402519</td>\n",
       "      <td>243.14837</td>\n",
       "      <td>25.946248</td>\n",
       "    </tr>\n",
       "    <tr>\n",
       "      <th>min</th>\n",
       "      <td>81370.000000</td>\n",
       "      <td>238.000000</td>\n",
       "      <td>5.670000e+02</td>\n",
       "      <td>236.000000</td>\n",
       "      <td>0.000000</td>\n",
       "      <td>0.00000</td>\n",
       "      <td>0.000000</td>\n",
       "    </tr>\n",
       "    <tr>\n",
       "      <th>25%</th>\n",
       "      <td>112676.000000</td>\n",
       "      <td>3282.500000</td>\n",
       "      <td>3.962500e+03</td>\n",
       "      <td>2171.000000</td>\n",
       "      <td>1.000000</td>\n",
       "      <td>55.75000</td>\n",
       "      <td>10.000000</td>\n",
       "    </tr>\n",
       "    <tr>\n",
       "      <th>50%</th>\n",
       "      <td>128816.000000</td>\n",
       "      <td>5150.000000</td>\n",
       "      <td>6.214500e+03</td>\n",
       "      <td>3391.000000</td>\n",
       "      <td>3.000000</td>\n",
       "      <td>98.00000</td>\n",
       "      <td>18.500000</td>\n",
       "    </tr>\n",
       "    <tr>\n",
       "      <th>75%</th>\n",
       "      <td>136393.000000</td>\n",
       "      <td>13232.000000</td>\n",
       "      <td>1.510450e+04</td>\n",
       "      <td>8011.000000</td>\n",
       "      <td>7.000000</td>\n",
       "      <td>187.25000</td>\n",
       "      <td>32.000000</td>\n",
       "    </tr>\n",
       "    <tr>\n",
       "      <th>max</th>\n",
       "      <td>139441.000000</td>\n",
       "      <td>139008.000000</td>\n",
       "      <td>1.107833e+06</td>\n",
       "      <td>48368.000000</td>\n",
       "      <td>146.000000</td>\n",
       "      <td>1998.00000</td>\n",
       "      <td>208.000000</td>\n",
       "    </tr>\n",
       "  </tbody>\n",
       "</table>\n",
       "</div>"
      ],
      "text/plain": [
       "       comp_page_like  life_post_reach  life_post_impression_liked  \\\n",
       "count      400.000000       400.000000                4.000000e+02   \n",
       "mean    122890.625000     13436.855000                1.747735e+04   \n",
       "std      16280.121461     20454.614675                6.614514e+04   \n",
       "min      81370.000000       238.000000                5.670000e+02   \n",
       "25%     112676.000000      3282.500000                3.962500e+03   \n",
       "50%     128816.000000      5150.000000                6.214500e+03   \n",
       "75%     136393.000000     13232.000000                1.510450e+04   \n",
       "max     139441.000000    139008.000000                1.107833e+06   \n",
       "\n",
       "       life_post_reach_liked     comment        like       share  \n",
       "count             400.000000  400.000000   400.00000  400.000000  \n",
       "mean             6585.952500    6.855000   169.07250   25.485000  \n",
       "std              7599.228501   14.402519   243.14837   25.946248  \n",
       "min               236.000000    0.000000     0.00000    0.000000  \n",
       "25%              2171.000000    1.000000    55.75000   10.000000  \n",
       "50%              3391.000000    3.000000    98.00000   18.500000  \n",
       "75%              8011.000000    7.000000   187.25000   32.000000  \n",
       "max             48368.000000  146.000000  1998.00000  208.000000  "
      ]
     },
     "execution_count": 60,
     "metadata": {},
     "output_type": "execute_result"
    }
   ],
   "source": [
    "print(\"Summary of the continuous features in training data\")\n",
    "train_data[con].describe()"
   ]
  },
  {
   "cell_type": "markdown",
   "metadata": {},
   "source": [
    "2. visualization of key variables"
   ]
  },
  {
   "cell_type": "code",
   "execution_count": 61,
   "metadata": {},
   "outputs": [
    {
     "data": {
      "image/png": "[encoded data removed]",
      "text/plain": [
       "<Figure size 2880x1440 with 7 Axes>"
      ]
     },
     "metadata": {
      "needs_background": "light"
     },
     "output_type": "display_data"
    }
   ],
   "source": [
    "plt_cnt = 1\n",
    "plt.figure(figsize=(40, 20))\n",
    "for i in con:\n",
    "    plt.subplot(2,4, plt_cnt)\n",
    "    plt.title(\"{} vs outcome values(y)\".format(i))\n",
    "    plt.scatter(train_data[i], raw_train_data['life_post_consumer'],c=\"blue\", s=3)\n",
    "    plt_cnt += 1\n",
    "plt.show()"
   ]
  },
  {
   "cell_type": "markdown",
   "metadata": {},
   "source": [
    "3. discuss characteristics of the dataset\n",
    "- There are 7 continuous variables and 36 binary variables in the dataset\n",
    "- Properties of the continuous variables and outcome values y were shown above"
   ]
  },
  {
   "cell_type": "markdown",
   "metadata": {},
   "source": [
    "## Q2 - Case 1\n",
    "Simply use ymean in training data to predict\n",
    "- ymean\n",
    "- x: not used y: keep\n",
    "- test RMSE\n",
    "- predictions and true outcome values for the first 20 data points"
   ]
  },
  {
   "cell_type": "code",
   "execution_count": 62,
   "metadata": {},
   "outputs": [
    {
     "name": "stdout",
     "output_type": "stream",
     "text": [
      "RMSE: 928.8095109332162\n",
      "prediction: 810.34\t true value: 1183\n",
      "prediction: 810.34\t true value: 189\n",
      "prediction: 810.34\t true value: 2327\n",
      "prediction: 810.34\t true value: 76\n",
      "prediction: 810.34\t true value: 354\n",
      "prediction: 810.34\t true value: 713\n",
      "prediction: 810.34\t true value: 204\n",
      "prediction: 810.34\t true value: 288\n",
      "prediction: 810.34\t true value: 555\n",
      "prediction: 810.34\t true value: 586\n",
      "prediction: 810.34\t true value: 446\n",
      "prediction: 810.34\t true value: 884\n",
      "prediction: 810.34\t true value: 524\n",
      "prediction: 810.34\t true value: 672\n",
      "prediction: 810.34\t true value: 23\n",
      "prediction: 810.34\t true value: 570\n",
      "prediction: 810.34\t true value: 1361\n",
      "prediction: 810.34\t true value: 5934\n",
      "prediction: 810.34\t true value: 2319\n",
      "prediction: 810.34\t true value: 1633\n"
     ]
    }
   ],
   "source": [
    "output = [np.mean(train_y)]*len(test_y)\n",
    "rmse_1 = np.sqrt(mse(output, test_y))\n",
    "print(\"RMSE:\", rmse_1)\n",
    "for i in range(20):\n",
    "    print(\"prediction: {}\\t true value: {}\".format(output[i], test_y[i]))"
   ]
  },
  {
   "cell_type": "markdown",
   "metadata": {},
   "source": [
    "## Q3 - Case 2A\n",
    "- OLS\n",
    "- x: keep-keep y: keep"
   ]
  },
  {
   "cell_type": "code",
   "execution_count": 63,
   "metadata": {},
   "outputs": [
    {
     "name": "stdout",
     "output_type": "stream",
     "text": [
      "RMSE: 692.289127136201\n",
      "prediction: 781.5799150705279\t true value: 1183\n",
      "prediction: 315.9204311198191\t true value: 189\n",
      "prediction: 2279.084852401181\t true value: 2327\n",
      "prediction: -136.3428637272973\t true value: 76\n",
      "prediction: 302.35624062148236\t true value: 354\n",
      "prediction: 462.42402367947943\t true value: 713\n",
      "prediction: 321.6777082436947\t true value: 204\n",
      "prediction: 504.5224476762178\t true value: 288\n",
      "prediction: 505.8954710411399\t true value: 555\n",
      "prediction: 488.36700578015734\t true value: 586\n",
      "prediction: 392.6142351937815\t true value: 446\n",
      "prediction: 388.9184670987779\t true value: 884\n",
      "prediction: 804.8752750894855\t true value: 524\n",
      "prediction: 634.3236443157402\t true value: 672\n",
      "prediction: 176.31765618431382\t true value: 23\n",
      "prediction: 645.7291380968691\t true value: 570\n",
      "prediction: 1983.5385887130615\t true value: 1361\n",
      "prediction: 3144.397100454392\t true value: 5934\n",
      "prediction: 4060.61071217642\t true value: 2319\n",
      "prediction: 4288.223080997647\t true value: 1633\n"
     ]
    }
   ],
   "source": [
    "regr = LinearRegression().fit(train_x_keep_keep, train_y)\n",
    "output = regr.predict(test_x_keep_keep)\n",
    "rmse_2A = np.sqrt(mse(output, test_y))\n",
    "print(\"RMSE:\", rmse_2A)\n",
    "for i in range(20):\n",
    "    print(\"prediction: {}\\t true value: {}\".format(output[i], test_y[i]))"
   ]
  },
  {
   "cell_type": "markdown",
   "metadata": {},
   "source": [
    "## Q4 - Case 2B\n",
    "- OLS\n",
    "- x: keep-keep y: de-mean"
   ]
  },
  {
   "cell_type": "code",
   "execution_count": 64,
   "metadata": {},
   "outputs": [
    {
     "name": "stdout",
     "output_type": "stream",
     "text": [
      "RMSE: 692.289127136183\n",
      "prediction: 781.5799150699094\t true value: 1183\n",
      "prediction: 315.9204311202519\t true value: 189\n",
      "prediction: 2279.084852401056\t true value: 2327\n",
      "prediction: -136.34286372688632\t true value: 76\n",
      "prediction: 302.3562406218442\t true value: 354\n",
      "prediction: 462.4240236797067\t true value: 713\n",
      "prediction: 321.6777082440475\t true value: 204\n",
      "prediction: 504.52244767662694\t true value: 288\n",
      "prediction: 505.89547104143264\t true value: 555\n",
      "prediction: 488.36700578043735\t true value: 586\n",
      "prediction: 392.61423519413245\t true value: 446\n",
      "prediction: 388.91846709911067\t true value: 884\n",
      "prediction: 804.8752750898637\t true value: 524\n",
      "prediction: 634.3236443160184\t true value: 672\n",
      "prediction: 176.31765618468842\t true value: 23\n",
      "prediction: 645.7291380971382\t true value: 570\n",
      "prediction: 1983.5385887131888\t true value: 1361\n",
      "prediction: 3144.397100453739\t true value: 5934\n",
      "prediction: 4060.6107121746045\t true value: 2319\n",
      "prediction: 4288.223080997545\t true value: 1633\n"
     ]
    }
   ],
   "source": [
    "regr = LinearRegression().fit(train_x_keep_keep, demean_train_y)\n",
    "output = regr.predict(test_x_keep_keep)\n",
    "output = [x + y_mean_train for x in output]\n",
    "rmse_2B = np.sqrt(mse(output, test_y))\n",
    "print(\"RMSE:\", rmse_2B)\n",
    "for i in range(20):\n",
    "    print(\"prediction: {}\\t true value: {}\".format(output[i], test_y[i]))"
   ]
  },
  {
   "cell_type": "markdown",
   "metadata": {},
   "source": [
    "## Q5 - Case 2C\n",
    "- OLS\n",
    "- x: std.-std. y: de-mean"
   ]
  },
  {
   "cell_type": "code",
   "execution_count": 65,
   "metadata": {},
   "outputs": [
    {
     "name": "stdout",
     "output_type": "stream",
     "text": [
      "RMSE: 692.2891271371996\n",
      "prediction: 781.5799150726236\t true value: 1183\n",
      "prediction: 315.92043111964745\t true value: 189\n",
      "prediction: 2279.0848523990194\t true value: 2327\n",
      "prediction: -136.34286372742872\t true value: 76\n",
      "prediction: 302.35624062146957\t true value: 354\n",
      "prediction: 462.4240236767421\t true value: 713\n",
      "prediction: 321.67770824388356\t true value: 204\n",
      "prediction: 504.52244767322355\t true value: 288\n",
      "prediction: 505.89547103829807\t true value: 555\n",
      "prediction: 488.36700578017263\t true value: 586\n",
      "prediction: 392.61423519385033\t true value: 446\n",
      "prediction: 388.9184670986701\t true value: 884\n",
      "prediction: 804.8752750893718\t true value: 524\n",
      "prediction: 634.3236443159282\t true value: 672\n",
      "prediction: 176.31765618415238\t true value: 23\n",
      "prediction: 645.72913809404\t true value: 570\n",
      "prediction: 1983.5385887135376\t true value: 1361\n",
      "prediction: 3144.3971004532423\t true value: 5934\n",
      "prediction: 4060.6107121870778\t true value: 2319\n",
      "prediction: 4288.223081003449\t true value: 1633\n"
     ]
    }
   ],
   "source": [
    "regr = LinearRegression().fit(train_x_std_std, demean_train_y)\n",
    "output = regr.predict(test_x_std_std)\n",
    "output = [x + y_mean_train for x in output]\n",
    "rmse_2C = np.sqrt(mse(output, test_y))\n",
    "print(\"RMSE:\", rmse_2C)\n",
    "for i in range(20):\n",
    "    print(\"prediction: {}\\t true value: {}\".format(output[i], test_y[i]))"
   ]
  },
  {
   "cell_type": "markdown",
   "metadata": {},
   "source": [
    "We can see that whether features are standardized or not doesn't matter in OLS method."
   ]
  },
  {
   "cell_type": "markdown",
   "metadata": {},
   "source": [
    "## Q6 - Case 3A\n",
    "- Ridge\n",
    "- x: keep-keep y: keep\n",
    "- regularization coefficient(alpha): 0.01, 0.1, 1, 5, 10, 20, 50, 100, 500, 1000\n",
    "- plot RMSE w.r.t alpha\n",
    "- find the best test RMSE\n",
    "- predictions and true outcome for the first 20 data points using the best alpha"
   ]
  },
  {
   "cell_type": "code",
   "execution_count": 66,
   "metadata": {},
   "outputs": [
    {
     "data": {
      "image/png": "[encoded data removed]",
      "text/plain": [
       "<Figure size 432x288 with 1 Axes>"
      ]
     },
     "metadata": {
      "needs_background": "light"
     },
     "output_type": "display_data"
    },
    {
     "name": "stdout",
     "output_type": "stream",
     "text": [
      "best RMSE: 660.5612900111672 (alpha: 10 )\n",
      "prediction: 1068.3336238492388\t true value: 1183\n",
      "prediction: 229.75531919984041\t true value: 189\n",
      "prediction: 2008.5588919213267\t true value: 2327\n",
      "prediction: -102.87489949962946\t true value: 76\n",
      "prediction: 541.4576994726491\t true value: 354\n",
      "prediction: 606.4592575585203\t true value: 713\n",
      "prediction: 414.98279829467697\t true value: 204\n",
      "prediction: 602.8105144219195\t true value: 288\n",
      "prediction: 500.1843850761293\t true value: 555\n",
      "prediction: 492.3066355810638\t true value: 586\n",
      "prediction: 508.37649961334796\t true value: 446\n",
      "prediction: 409.13002152825584\t true value: 884\n",
      "prediction: 730.4676804339109\t true value: 524\n",
      "prediction: 561.0603282026204\t true value: 672\n",
      "prediction: 294.45089722768375\t true value: 23\n",
      "prediction: 602.4828674601829\t true value: 570\n",
      "prediction: 1632.1827150344566\t true value: 1361\n",
      "prediction: 2698.882817822703\t true value: 5934\n",
      "prediction: 3841.6315284622815\t true value: 2319\n",
      "prediction: 3892.400909026028\t true value: 1633\n"
     ]
    }
   ],
   "source": [
    "alpha = [0.01, 0.1, 1, 5, 10, 20, 50, 100, 500, 1000]\n",
    "rmse_3A = []\n",
    "for i in alpha:\n",
    "    regr = Ridge(alpha = i).fit(train_x_keep_keep, train_y)\n",
    "    output = regr.predict(test_x_keep_keep)\n",
    "    rmse = np.sqrt(mse(output, test_y))\n",
    "    rmse_3A.append(rmse)\n",
    "#     print(\"alpha: {}\\t RMSE: {}\".format(i,rmse))\n",
    "plt.xticks(alpha)\n",
    "plt.plot(alpha, rmse_3A)\n",
    "plt.show()\n",
    "best_alpha = alpha[np.argmin(rmse_3A)]\n",
    "print(\"best RMSE:\", np.min(rmse_3A), \"(alpha:\", best_alpha, \")\")\n",
    "regr = Ridge(alpha = best_alpha).fit(train_x_keep_keep, train_y)\n",
    "output = regr.predict(test_x_keep_keep)\n",
    "for i in range(20):\n",
    "    print(\"prediction: {}\\t true value: {}\".format(output[i], test_y[i]))"
   ]
  },
  {
   "cell_type": "markdown",
   "metadata": {},
   "source": [
    "## Q7 - Case 3B\n",
    "- Ridge\n",
    "- x: std.-keep y: de-mean"
   ]
  },
  {
   "cell_type": "code",
   "execution_count": 67,
   "metadata": {},
   "outputs": [
    {
     "data": {
      "image/png": "[encoded data removed]",
      "text/plain": [
       "<Figure size 432x288 with 1 Axes>"
      ]
     },
     "metadata": {
      "needs_background": "light"
     },
     "output_type": "display_data"
    },
    {
     "name": "stdout",
     "output_type": "stream",
     "text": [
      "best RMSE: 645.516812393874 (alpha: 20 )\n",
      "prediction: 1142.2695423408366\t true value: 1183\n",
      "prediction: 254.1570149211159\t true value: 189\n",
      "prediction: 1834.0248894378174\t true value: 2327\n",
      "prediction: 15.718168704053028\t true value: 76\n",
      "prediction: 599.7636629205394\t true value: 354\n",
      "prediction: 635.9403898439426\t true value: 713\n",
      "prediction: 427.85644415790233\t true value: 204\n",
      "prediction: 603.6620598910198\t true value: 288\n",
      "prediction: 514.5237878678296\t true value: 555\n",
      "prediction: 580.0010600720797\t true value: 586\n",
      "prediction: 544.3417602098282\t true value: 446\n",
      "prediction: 477.18442083888596\t true value: 884\n",
      "prediction: 801.5455454188352\t true value: 524\n",
      "prediction: 557.4528723791393\t true value: 672\n",
      "prediction: 396.2788654783087\t true value: 23\n",
      "prediction: 615.1515241152465\t true value: 570\n",
      "prediction: 1474.67417375635\t true value: 1361\n",
      "prediction: 2504.8643727349977\t true value: 5934\n",
      "prediction: 3524.8596448111202\t true value: 2319\n",
      "prediction: 3438.403437134936\t true value: 1633\n"
     ]
    }
   ],
   "source": [
    "rmse_3B = []\n",
    "for i in alpha:\n",
    "    regr = Ridge(alpha = i).fit(train_x_std_keep, demean_train_y)\n",
    "    output = regr.predict(test_x_std_keep)\n",
    "    output = [x + y_mean_train for x in output]\n",
    "    rmse = np.sqrt(mse(output, test_y))\n",
    "    rmse_3B.append(rmse)\n",
    "#     print(\"alpha: {}\\t RMSE: {}\".format(i,rmse))\n",
    "plt.xticks(alpha)\n",
    "plt.plot(alpha, rmse_3B)\n",
    "plt.show()\n",
    "best_alpha = alpha[np.argmin(rmse_3B)]\n",
    "print(\"best RMSE:\", np.min(rmse_3B), \"(alpha:\", best_alpha, \")\")\n",
    "regr = Ridge(alpha = best_alpha).fit(train_x_std_keep, demean_train_y)\n",
    "output = regr.predict(test_x_std_keep)\n",
    "output = [x + y_mean_train for x in output]\n",
    "for i in range(20):\n",
    "    print(\"prediction: {}\\t true value: {}\".format(output[i], test_y[i]))"
   ]
  },
  {
   "cell_type": "markdown",
   "metadata": {},
   "source": [
    "## Q8 - Case 3C\n",
    "- Ridge\n",
    "- x: keep-keep y: de-mean"
   ]
  },
  {
   "cell_type": "code",
   "execution_count": 68,
   "metadata": {},
   "outputs": [
    {
     "data": {
      "image/png": "[encoded data removed]",
      "text/plain": [
       "<Figure size 432x288 with 1 Axes>"
      ]
     },
     "metadata": {
      "needs_background": "light"
     },
     "output_type": "display_data"
    },
    {
     "name": "stdout",
     "output_type": "stream",
     "text": [
      "best RMSE: 660.5612900111672 (alpha: 10 )\n",
      "prediction: 1068.3336238492393\t true value: 1183\n",
      "prediction: 229.75531919984053\t true value: 189\n",
      "prediction: 2008.5588919213264\t true value: 2327\n",
      "prediction: -102.87489949962935\t true value: 76\n",
      "prediction: 541.457699472649\t true value: 354\n",
      "prediction: 606.4592575585208\t true value: 713\n",
      "prediction: 414.98279829467685\t true value: 204\n",
      "prediction: 602.8105144219195\t true value: 288\n",
      "prediction: 500.1843850761294\t true value: 555\n",
      "prediction: 492.30663558106414\t true value: 586\n",
      "prediction: 508.3764996133481\t true value: 446\n",
      "prediction: 409.1300215282562\t true value: 884\n",
      "prediction: 730.4676804339109\t true value: 524\n",
      "prediction: 561.0603282026204\t true value: 672\n",
      "prediction: 294.4508972276843\t true value: 23\n",
      "prediction: 602.4828674601829\t true value: 570\n",
      "prediction: 1632.1827150344564\t true value: 1361\n",
      "prediction: 2698.882817822703\t true value: 5934\n",
      "prediction: 3841.631528462281\t true value: 2319\n",
      "prediction: 3892.4009090260265\t true value: 1633\n"
     ]
    }
   ],
   "source": [
    "rmse_3C = []\n",
    "for i in alpha:\n",
    "    regr = Ridge(alpha = i).fit(train_x_keep_keep, demean_train_y)\n",
    "    output = regr.predict(test_x_keep_keep)\n",
    "    output = [x + y_mean_train for x in output]\n",
    "    rmse = np.sqrt(mse(output, test_y))\n",
    "    rmse_3C.append(rmse)\n",
    "#     print(\"alpha: {}\\t RMSE: {}\".format(i,rmse))\n",
    "plt.xticks(alpha)\n",
    "plt.plot(alpha, rmse_3C)\n",
    "plt.show()\n",
    "best_alpha = alpha[np.argmin(rmse_3C)]\n",
    "print(\"best RMSE:\", np.min(rmse_3C), \"(alpha:\", best_alpha, \")\")\n",
    "regr = Ridge(alpha = best_alpha).fit(train_x_keep_keep, demean_train_y)\n",
    "output = regr.predict(test_x_keep_keep)\n",
    "output = [x + y_mean_train for x in output]\n",
    "for i in range(20):\n",
    "    print(\"prediction: {}\\t true value: {}\".format(output[i], test_y[i]))"
   ]
  },
  {
   "cell_type": "markdown",
   "metadata": {},
   "source": [
    "## Q9 - Case 3D\n",
    "- Ridge\n",
    "- x: std.-std. y: de-mean"
   ]
  },
  {
   "cell_type": "code",
   "execution_count": 69,
   "metadata": {},
   "outputs": [
    {
     "data": {
      "image/png": "[encoded data removed]",
      "text/plain": [
       "<Figure size 432x288 with 1 Axes>"
      ]
     },
     "metadata": {
      "needs_background": "light"
     },
     "output_type": "display_data"
    },
    {
     "name": "stdout",
     "output_type": "stream",
     "text": [
      "best RMSE: 588.793465752767 (alpha: 100 )\n",
      "prediction: 1040.5001226108072\t true value: 1183\n",
      "prediction: 278.46504979772\t true value: 189\n",
      "prediction: 1997.7244642700325\t true value: 2327\n",
      "prediction: -21.140365018157354\t true value: 76\n",
      "prediction: 554.2152570974529\t true value: 354\n",
      "prediction: 602.8406419024143\t true value: 713\n",
      "prediction: 337.52346959154676\t true value: 204\n",
      "prediction: 599.4357852626586\t true value: 288\n",
      "prediction: 470.2937041599351\t true value: 555\n",
      "prediction: 500.7241404018718\t true value: 586\n",
      "prediction: 511.14861912035275\t true value: 446\n",
      "prediction: 387.7435534965068\t true value: 884\n",
      "prediction: 700.0895765181288\t true value: 524\n",
      "prediction: 532.2228096919928\t true value: 672\n",
      "prediction: 255.18311778364523\t true value: 23\n",
      "prediction: 653.3563783030608\t true value: 570\n",
      "prediction: 1728.1691916931402\t true value: 1361\n",
      "prediction: 2775.002710950044\t true value: 5934\n",
      "prediction: 3174.792251892934\t true value: 2319\n",
      "prediction: 3141.8579760883254\t true value: 1633\n"
     ]
    }
   ],
   "source": [
    "rmse_3D = []\n",
    "for i in alpha:\n",
    "    regr = Ridge(alpha = i).fit(train_x_std_std, demean_train_y)\n",
    "    output = regr.predict(test_x_std_std)\n",
    "    output = [x + y_mean_train for x in output]\n",
    "    rmse = np.sqrt(mse(output, test_y))\n",
    "    rmse_3D.append(rmse)\n",
    "#     print(\"alpha: {}\\t RMSE: {}\".format(i,rmse))\n",
    "plt.xticks(alpha)\n",
    "plt.plot(alpha, rmse_3D)\n",
    "plt.show()\n",
    "best_alpha = alpha[np.argmin(rmse_3D)]\n",
    "print(\"best RMSE:\", np.min(rmse_3D), \"(alpha:\", best_alpha, \")\")\n",
    "regr = Ridge(alpha = best_alpha).fit(train_x_std_std, demean_train_y)\n",
    "output = regr.predict(test_x_std_std)\n",
    "output = [x + y_mean_train for x in output]\n",
    "for i in range(20):\n",
    "    print(\"prediction: {}\\t true value: {}\".format(output[i], test_y[i]))"
   ]
  },
  {
   "cell_type": "markdown",
   "metadata": {},
   "source": [
    "## Q10 - Case 4\n",
    "- Lasso\n",
    "- x: std.-keep y:de-mean"
   ]
  },
  {
   "cell_type": "code",
   "execution_count": 70,
   "metadata": {},
   "outputs": [
    {
     "name": "stderr",
     "output_type": "stream",
     "text": [
      "/anaconda3/lib/python3.7/site-packages/sklearn/linear_model/_coordinate_descent.py:476: ConvergenceWarning: Objective did not converge. You might want to increase the number of iterations. Duality gap: 47976963.79253879, tolerance: 32249.892376\n",
      "  positive)\n",
      "/anaconda3/lib/python3.7/site-packages/sklearn/linear_model/_coordinate_descent.py:476: ConvergenceWarning: Objective did not converge. You might want to increase the number of iterations. Duality gap: 4456870.003093511, tolerance: 32249.892376\n",
      "  positive)\n"
     ]
    },
    {
     "data": {
      "image/png": "[encoded data removed]",
      "text/plain": [
       "<Figure size 432x288 with 1 Axes>"
      ]
     },
     "metadata": {
      "needs_background": "light"
     },
     "output_type": "display_data"
    },
    {
     "name": "stdout",
     "output_type": "stream",
     "text": [
      "best RMSE: 643.3855039398903 (alpha: 10 )\n",
      "prediction: 1241.5959080793423\t true value: 1183\n",
      "prediction: 287.8868729079718\t true value: 189\n",
      "prediction: 2119.9130474876188\t true value: 2327\n",
      "prediction: -16.300846730910052\t true value: 76\n",
      "prediction: 449.09988350124877\t true value: 354\n",
      "prediction: 711.1496827465938\t true value: 713\n",
      "prediction: 398.0584448746948\t true value: 204\n",
      "prediction: 460.1562219390779\t true value: 288\n",
      "prediction: 645.4477213864677\t true value: 555\n",
      "prediction: 591.4330233308604\t true value: 586\n",
      "prediction: 429.9644076126842\t true value: 446\n",
      "prediction: 461.4789915445707\t true value: 884\n",
      "prediction: 899.8082551086084\t true value: 524\n",
      "prediction: 571.8650372596213\t true value: 672\n",
      "prediction: 352.8634345979192\t true value: 23\n",
      "prediction: 548.0899016138125\t true value: 570\n",
      "prediction: 1741.0145296996247\t true value: 1361\n",
      "prediction: 2712.056805291796\t true value: 5934\n",
      "prediction: 3681.4712297030082\t true value: 2319\n",
      "prediction: 3645.134974316373\t true value: 1633\n"
     ]
    }
   ],
   "source": [
    "rmse_4 = []\n",
    "for i in alpha:\n",
    "    regr = Lasso(alpha = i).fit(train_x_std_keep, demean_train_y)\n",
    "    output = regr.predict(test_x_std_keep)\n",
    "    output = [x + y_mean_train for x in output]\n",
    "    rmse = np.sqrt(mse(output, test_y))\n",
    "    rmse_4.append(rmse)\n",
    "#     print(\"alpha: {}\\t RMSE: {}\".format(i,rmse))\n",
    "plt.xticks(alpha)\n",
    "plt.plot(alpha, rmse_4)\n",
    "plt.show()\n",
    "best_alpha = alpha[np.argmin(rmse_4)]\n",
    "print(\"best RMSE:\", np.min(rmse_4), \"(alpha:\", best_alpha, \")\")\n",
    "regr = Lasso(alpha = best_alpha).fit(train_x_std_keep, demean_train_y)\n",
    "output = regr.predict(test_x_std_keep)\n",
    "output = [x + y_mean_train for x in output]\n",
    "for i in range(20):\n",
    "    print(\"prediction: {}\\t true value: {}\".format(output[i], test_y[i]))"
   ]
  },
  {
   "cell_type": "markdown",
   "metadata": {},
   "source": [
    "## Q11\n",
    "Summarize the best RMSE and discuss the findings\n",
    "\n",
    "| Method  | x_continue  | x_binary  | y  | RMSE  |\n",
    "|:---:|:---:|:---:|:---:|:---:|\n",
    "| ymean  | not used  | not used  | keep  | 928.8095109332162  |\n",
    "| OLS  | keep  | keep  | keep  | 692.289127136201  |\n",
    "| OLS  | keep  | keep  | de-mean  | 692.289127136183  |\n",
    "| OLS  | std.  | std.  | de-mean  | 692.2891271371996  |\n",
    "| Ridge  | keep  | keep  | keep  | 660.5612900111672  |\n",
    "| Ridge  | std.  | keep  | de-mean  | 645.516812393874  |\n",
    "| Ridge  | keep  | keep  | de-mean  | 660.5612900111672  |\n",
    "| Ridge  | std.  | std.  | de-mean  | 588.793465752767  |\n",
    "| Lasso  | std.  | keep  | de-mean  | 643.3855039398903  |\n",
    "\n",
    "### Findings:\n",
    "1. For OLS, preprocessing method to either features or outcome values won't affect the performance.\n",
    "2. For Ridge, preprocessing method on outcome values(de-mean y) won't affect the performance, but standardization will improve performance. \n",
    "    - We should standardize both continuous and binary features to reach best performance.\n",
    "3. For Lasso, compared with Ridge method under same preprocessing situation, it had a better performance.\n"
   ]
  }
 ],
 "metadata": {
  "kernelspec": {
   "display_name": "Python 3",
   "language": "python",
   "name": "python3"
  },
  "language_info": {
   "codemirror_mode": {
    "name": "ipython",
    "version": 3
   },
   "file_extension": ".py",
   "mimetype": "text/x-python",
   "name": "python",
   "nbconvert_exporter": "python",
   "pygments_lexer": "ipython3",
   "version": "3.7.3"
  }
 },
 "nbformat": 4,
 "nbformat_minor": 4
}
